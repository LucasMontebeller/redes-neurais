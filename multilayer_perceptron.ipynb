{
 "cells": [
  {
   "cell_type": "markdown",
   "metadata": {},
   "source": [
    "## Imports"
   ]
  },
  {
   "cell_type": "code",
   "execution_count": 612,
   "metadata": {},
   "outputs": [],
   "source": [
    "import numpy as np\n",
    "import pandas as pd\n",
    "import matplotlib.pyplot as plt\n",
    "from sklearn.datasets import load_iris"
   ]
  },
  {
   "cell_type": "markdown",
   "metadata": {},
   "source": [
    "## Definindo DataSet"
   ]
  },
  {
   "cell_type": "code",
   "execution_count": 613,
   "metadata": {},
   "outputs": [
    {
     "data": {
      "text/html": [
       "<div>\n",
       "<style scoped>\n",
       "    .dataframe tbody tr th:only-of-type {\n",
       "        vertical-align: middle;\n",
       "    }\n",
       "\n",
       "    .dataframe tbody tr th {\n",
       "        vertical-align: top;\n",
       "    }\n",
       "\n",
       "    .dataframe thead th {\n",
       "        text-align: right;\n",
       "    }\n",
       "</style>\n",
       "<table border=\"1\" class=\"dataframe\">\n",
       "  <thead>\n",
       "    <tr style=\"text-align: right;\">\n",
       "      <th></th>\n",
       "      <th>sepal length (cm)</th>\n",
       "      <th>sepal width (cm)</th>\n",
       "      <th>petal length (cm)</th>\n",
       "      <th>petal width (cm)</th>\n",
       "    </tr>\n",
       "  </thead>\n",
       "  <tbody>\n",
       "    <tr>\n",
       "      <th>0</th>\n",
       "      <td>5.1</td>\n",
       "      <td>3.5</td>\n",
       "      <td>1.4</td>\n",
       "      <td>0.2</td>\n",
       "    </tr>\n",
       "    <tr>\n",
       "      <th>1</th>\n",
       "      <td>4.9</td>\n",
       "      <td>3.0</td>\n",
       "      <td>1.4</td>\n",
       "      <td>0.2</td>\n",
       "    </tr>\n",
       "    <tr>\n",
       "      <th>2</th>\n",
       "      <td>4.7</td>\n",
       "      <td>3.2</td>\n",
       "      <td>1.3</td>\n",
       "      <td>0.2</td>\n",
       "    </tr>\n",
       "    <tr>\n",
       "      <th>3</th>\n",
       "      <td>4.6</td>\n",
       "      <td>3.1</td>\n",
       "      <td>1.5</td>\n",
       "      <td>0.2</td>\n",
       "    </tr>\n",
       "    <tr>\n",
       "      <th>4</th>\n",
       "      <td>5.0</td>\n",
       "      <td>3.6</td>\n",
       "      <td>1.4</td>\n",
       "      <td>0.2</td>\n",
       "    </tr>\n",
       "  </tbody>\n",
       "</table>\n",
       "</div>"
      ],
      "text/plain": [
       "   sepal length (cm)  sepal width (cm)  petal length (cm)  petal width (cm)\n",
       "0                5.1               3.5                1.4               0.2\n",
       "1                4.9               3.0                1.4               0.2\n",
       "2                4.7               3.2                1.3               0.2\n",
       "3                4.6               3.1                1.5               0.2\n",
       "4                5.0               3.6                1.4               0.2"
      ]
     },
     "execution_count": 613,
     "metadata": {},
     "output_type": "execute_result"
    }
   ],
   "source": [
    "data_set = load_iris()\n",
    "df = pd.DataFrame(data=data_set.data, columns=data_set.feature_names)\n",
    "df.head()"
   ]
  },
  {
   "cell_type": "code",
   "execution_count": 614,
   "metadata": {},
   "outputs": [
    {
     "data": {
      "text/plain": [
       "((150, 4), (150,), (array([0, 1, 2]), array([50, 50, 50])))"
      ]
     },
     "execution_count": 614,
     "metadata": {},
     "output_type": "execute_result"
    }
   ],
   "source": [
    "X, y = data_set['data'], data_set['target']\n",
    "X.shape, y.shape, np.unique(y, return_counts=True)"
   ]
  },
  {
   "cell_type": "code",
   "execution_count": 615,
   "metadata": {},
   "outputs": [
    {
     "data": {
      "text/plain": [
       "<matplotlib.collections.PathCollection at 0x79a6db48c820>"
      ]
     },
     "execution_count": 615,
     "metadata": {},
     "output_type": "execute_result"
    },
    {
     "data": {
      "image/png": "[encoded data removed]",
      "text/plain": [
       "<Figure size 640x480 with 1 Axes>"
      ]
     },
     "metadata": {},
     "output_type": "display_data"
    }
   ],
   "source": [
    "plt.scatter(X[:,0][y==0], X[:,1][y==0], color='blue')\n",
    "plt.scatter(X[:,0][y==1], X[:,1][y==1], color='red')"
   ]
  },
  {
   "cell_type": "markdown",
   "metadata": {},
   "source": [
    "# Multilayer perceptron"
   ]
  },
  {
   "cell_type": "code",
   "execution_count": 616,
   "metadata": {},
   "outputs": [],
   "source": [
    "class MLP():\n",
    "    def __init__(self, X:np.ndarray, y:np.ndarray, hidden_neurons:int, output_neurons:int) -> None:\n",
    "        self.X = X\n",
    "        self.y = y\n",
    "\n",
    "        self.input_neurons = X.shape[1]\n",
    "        self.hidden_neurons = hidden_neurons\n",
    "        self.output_neurons = output_neurons\n",
    "\n",
    "        # camada inicial para camada oculta\n",
    "        self.f1 = None\n",
    "        self.w1 = np.random.randn(self.input_neurons, self.hidden_neurons)\n",
    "        self.b1 = np.zeros((1, self.hidden_neurons)) # bias\n",
    "\n",
    "        # camada oculta para saida\n",
    "        self.f2 = None\n",
    "        self.w2 = np.random.randn(self.hidden_neurons, self.output_neurons)\n",
    "        self.b2 = np.zeros((1, self.output_neurons))\n",
    "\n",
    "    def predict(self):\n",
    "        pass\n",
    "\n",
    "    def fit(self, ephocs:int, learning_rate:float) -> None:\n",
    "        \"\"\"Realiza o treinamento da rede.\"\"\"\n",
    "        for e in range(ephocs):\n",
    "            output = self.__feedfoward(self.X)\n",
    "            loss = self.__loss_function(output)\n",
    "\n",
    "            # Condição de parada\n",
    "            if loss == 0:\n",
    "                print(f'Perda atingiu zero após {e} épocas. Treinamento concluído.')\n",
    "                break\n",
    "            else:\n",
    "                accuracy = self.__calc_accuracy(output)\n",
    "                print(f'Época: {e} \\t Acertos: {accuracy} \\tPerda: {loss}')\n",
    "\n",
    "            self.__backpropagation(output, learning_rate)\n",
    "\n",
    "    def __feedfoward(self, X:np.ndarray) -> np.ndarray:\n",
    "        \"\"\"Realiza a propagação direta pela rede neural.\"\"\"\n",
    "        z1 = X @ self.w1 + self.b1 # broadcasting\n",
    "        self.f1 = self.__activation_function(z1, layer='hidden')\n",
    "        \n",
    "        z2 = self.f1 @ self.w2 + self.b2\n",
    "        self.f2 = self.__activation_function(z2, layer='output')\n",
    "\n",
    "        return self.f2\n",
    "\n",
    "    def __activation_function(self,input:np.ndarray, layer:str) -> np.ndarray:\n",
    "        \"\"\"Aplica a função de ativação à saída da camada especificada.:\n",
    "            Valores possíveis:\n",
    "                - 'hidden': Camada oculta, usa a função tangente hiperbólica.\n",
    "                - 'output': Camada de saída, usa a função softmax.\n",
    "        \"\"\"\n",
    "        if layer == 'hidden':\n",
    "            return np.tanh(input)\n",
    "        elif layer == 'output':\n",
    "            exp_values = np.exp(input - np.max(input, axis=1, keepdims=True))\n",
    "            return exp_values / np.sum(exp_values, axis=1, keepdims=True)\n",
    "        else:\n",
    "            raise ValueError(\"O argumento 'layer' deve ser 'hidden' ou 'output'.\")\n",
    "    \n",
    "    def __loss_function(self, predictions:np.ndarray) -> float:\n",
    "        \"\"\"Calcula a perda da rede neural usando a Cross-Entropy Categórica.\"\"\"\n",
    "        num_samples = predictions.shape[0]\n",
    "        loss = -np.sum(self.y.reshape(-1, 1) * np.log(predictions)) / num_samples\n",
    "        return loss\n",
    "\n",
    "    def __backpropagation(self, predictions:np.ndarray, learning_rate:float) -> None:\n",
    "        \"\"\"Executa o algoritmo de backpropagation para atualizar os pesos.\"\"\"\n",
    "        # Calcula o gradiente da perda em relação à saída\n",
    "        grad_loss_output = predictions - self.y.reshape(-1, 1)\n",
    "        \n",
    "        # Gradientes da camada de saída\n",
    "        grad_w2 = self.f1.T @ grad_loss_output\n",
    "        grad_b2 = np.sum(grad_loss_output, axis=0, keepdims=True)\n",
    "\n",
    "        # Calcula o gradiente da perda em relação à entrada da camada oculta\n",
    "        grad_loss_hidden = (grad_loss_output @ self.w2.T) * (1 - np.power(self.f1, 2))\n",
    "        \n",
    "        # Gradientes da camada oculta\n",
    "        grad_w1 = self.X.T @ grad_loss_hidden\n",
    "        grad_b1 = np.sum(grad_loss_hidden, axis=0, keepdims=True)\n",
    "\n",
    "        # Atualiza os pesos e bias das respectivas camadas\n",
    "        self.w2 -= learning_rate * grad_w2\n",
    "        self.b2 -= learning_rate * grad_b2\n",
    "        self.w1 -= learning_rate * grad_w1\n",
    "        self.b1 -= learning_rate * grad_b1\n",
    "\n",
    "    def __calc_accuracy(self, predictions:np.ndarray) -> float:\n",
    "        \"\"\"Calcula a porcentagem de acertos do modelo.\"\"\"\n",
    "        predicted_labels = np.argmax(predictions, axis=1)\n",
    "        true_labels = (predicted_labels == self.y).sum()\n",
    "        accuracy = true_labels / self.X.shape[0]\n",
    "        return np.round(accuracy, 3) \n",
    "\n"
   ]
  },
  {
   "cell_type": "markdown",
   "metadata": {},
   "source": [
    "## Testes"
   ]
  },
  {
   "cell_type": "code",
   "execution_count": 617,
   "metadata": {},
   "outputs": [
    {
     "name": "stdout",
     "output_type": "stream",
     "text": [
      "Época: 0 \t Acertos: 0.333 \tPerda: 6.862569355718997\n",
      "Época: 1 \t Acertos: 0.333 \tPerda: 337.78327672936905\n",
      "Época: 2 \t Acertos: 0.333 \tPerda: 4.8516206745615635\n",
      "Época: 3 \t Acertos: 0.333 \tPerda: 1.642942243850919\n",
      "Época: 4 \t Acertos: 0.333 \tPerda: 1.386720743084602\n",
      "Época: 5 \t Acertos: 0.333 \tPerda: 9.715736447976843\n",
      "Época: 6 \t Acertos: 0.333 \tPerda: 1.394255816296158\n",
      "Época: 7 \t Acertos: 0.333 \tPerda: 1.3931106081845168\n",
      "Época: 8 \t Acertos: 0.333 \tPerda: 1.3921296119100768\n",
      "Época: 9 \t Acertos: 0.333 \tPerda: 1.391289419671291\n",
      "Época: 10 \t Acertos: 0.333 \tPerda: 1.3905699233909692\n",
      "Época: 11 \t Acertos: 0.333 \tPerda: 1.3899538594424388\n",
      "Época: 12 \t Acertos: 0.333 \tPerda: 1.9608861445793464\n",
      "Época: 13 \t Acertos: 0.333 \tPerda: 1.3866004092123991\n",
      "Época: 14 \t Acertos: 0.333 \tPerda: 1.386556229778954\n",
      "Época: 15 \t Acertos: 0.333 \tPerda: 1.3865184270744229\n",
      "Época: 16 \t Acertos: 0.333 \tPerda: 1.3864860809076864\n",
      "Época: 17 \t Acertos: 0.333 \tPerda: 10.027240330964247\n",
      "Época: 18 \t Acertos: 0.333 \tPerda: 1.3876957411914717\n",
      "Época: 19 \t Acertos: 0.333 \tPerda: 1.3874935481532487\n",
      "Época: 20 \t Acertos: 0.333 \tPerda: 1.3873205116096343\n",
      "Época: 21 \t Acertos: 0.333 \tPerda: 1.3871724314920808\n",
      "Época: 22 \t Acertos: 0.333 \tPerda: 1.387045711602224\n",
      "Época: 23 \t Acertos: 0.333 \tPerda: 1.3869372731004512\n",
      "Época: 24 \t Acertos: 0.333 \tPerda: 1.3868444803049529\n",
      "Época: 25 \t Acertos: 0.333 \tPerda: 1.3867650770718536\n",
      "Época: 26 \t Acertos: 0.333 \tPerda: 1.3866971322639456\n",
      "Época: 27 \t Acertos: 0.333 \tPerda: 4.117087050163681\n",
      "Época: 28 \t Acertos: 0.333 \tPerda: 1.3870326209354453\n",
      "Época: 29 \t Acertos: 0.333 \tPerda: 1.3869260710957527\n",
      "Época: 30 \t Acertos: 0.333 \tPerda: 1.3868348946356\n",
      "Época: 31 \t Acertos: 0.333 \tPerda: 1.386756874634904\n",
      "Época: 32 \t Acertos: 0.333 \tPerda: 1.3866901135423\n",
      "Época: 33 \t Acertos: 0.333 \tPerda: 1.3866329872533794\n",
      "Época: 34 \t Acertos: 0.333 \tPerda: 1.386584105768832\n",
      "Época: 35 \t Acertos: 0.333 \tPerda: 1.3865422794959008\n",
      "Época: 36 \t Acertos: 0.333 \tPerda: 1.386506490388203\n",
      "Época: 37 \t Acertos: 0.333 \tPerda: 1.3864758672325626\n",
      "Época: 38 \t Acertos: 0.333 \tPerda: 1.3864496644893898\n",
      "Época: 39 \t Acertos: 0.333 \tPerda: 1.386427244177434\n",
      "Época: 40 \t Acertos: 0.333 \tPerda: 1.386408060366184\n",
      "Época: 41 \t Acertos: 0.333 \tPerda: 1.3863916459015284\n",
      "Época: 42 \t Acertos: 0.333 \tPerda: 1.3863776010437432\n",
      "Época: 43 \t Acertos: 0.333 \tPerda: 1.3863655837428421\n",
      "Época: 44 \t Acertos: 0.333 \tPerda: 1.3863553013156957\n",
      "Época: 45 \t Acertos: 0.333 \tPerda: 1.3863465033231406\n",
      "Época: 46 \t Acertos: 0.333 \tPerda: 1.3863389754742648\n",
      "Época: 47 \t Acertos: 0.333 \tPerda: 1.3863325344098887\n",
      "Época: 48 \t Acertos: 0.333 \tPerda: 1.3863270232385407\n",
      "Época: 49 \t Acertos: 0.333 \tPerda: 1.3863223077164641\n",
      "Época: 50 \t Acertos: 0.333 \tPerda: 1.3863182729787855\n",
      "Época: 51 \t Acertos: 0.333 \tPerda: 1.3863148207423737\n",
      "Época: 52 \t Acertos: 0.333 \tPerda: 1.386311866912356\n",
      "Época: 53 \t Acertos: 0.333 \tPerda: 1.3863093395340513\n",
      "Época: 54 \t Acertos: 0.333 \tPerda: 1.3863071770405022\n",
      "Época: 55 \t Acertos: 0.333 \tPerda: 1.3863053267529417\n",
      "Época: 56 \t Acertos: 0.333 \tPerda: 1.386303743597707\n",
      "Época: 57 \t Acertos: 0.333 \tPerda: 1.3863023890083563\n",
      "Época: 58 \t Acertos: 0.333 \tPerda: 1.3863012299862663\n",
      "Época: 59 \t Acertos: 0.333 \tPerda: 1.386300238296837\n",
      "Época: 60 \t Acertos: 0.333 \tPerda: 1.4095916983832304\n",
      "Época: 61 \t Acertos: 0.333 \tPerda: 1.3862944125416454\n",
      "Época: 62 \t Acertos: 0.333 \tPerda: 3.8093606607383714\n",
      "Época: 63 \t Acertos: 0.333 \tPerda: 1.3866188129420487\n",
      "Época: 64 \t Acertos: 0.333 \tPerda: 2.1968042507065806\n",
      "Época: 65 \t Acertos: 0.333 \tPerda: 1.3863873347473163\n",
      "Época: 66 \t Acertos: 0.333 \tPerda: 1.386373912257599\n",
      "Época: 67 \t Acertos: 0.333 \tPerda: 1.3863624274850628\n",
      "Época: 68 \t Acertos: 0.333 \tPerda: 1.38635260071325\n",
      "Época: 69 \t Acertos: 0.333 \tPerda: 1.3863441925986606\n",
      "Época: 70 \t Acertos: 0.333 \tPerda: 1.3863369983448832\n",
      "Época: 71 \t Acertos: 0.333 \tPerda: 1.386330842717031\n",
      "Época: 72 \t Acertos: 0.647 \tPerda: 1.4212256062444848\n",
      "Época: 73 \t Acertos: 0.333 \tPerda: 3.2953356845358868\n",
      "Época: 74 \t Acertos: 0.333 \tPerda: 1.3863149973467146\n",
      "Época: 75 \t Acertos: 0.333 \tPerda: 1.3863120180199298\n",
      "Época: 76 \t Acertos: 0.333 \tPerda: 1.3908197811430538\n",
      "Época: 77 \t Acertos: 0.06 \tPerda: 6.462208401367274\n",
      "Época: 78 \t Acertos: 0.333 \tPerda: 1.38798988590489\n",
      "Época: 79 \t Acertos: 0.333 \tPerda: 1.387745286569136\n",
      "Época: 80 \t Acertos: 0.333 \tPerda: 6.164174377944518\n",
      "Época: 81 \t Acertos: 0.333 \tPerda: 1.3864998355750504\n",
      "Época: 82 \t Acertos: 0.333 \tPerda: 1.3864701730223254\n",
      "Época: 83 \t Acertos: 0.333 \tPerda: 1.3864447922447738\n",
      "Época: 84 \t Acertos: 0.08 \tPerda: 15.815428175404401\n",
      "Época: 85 \t Acertos: 0.333 \tPerda: 1.3890545470155353\n",
      "Época: 86 \t Acertos: 0.333 \tPerda: 1.3886565539954032\n",
      "Época: 87 \t Acertos: 0.333 \tPerda: 1.3883158851047077\n",
      "Época: 88 \t Acertos: 0.333 \tPerda: 1.3880243005620994\n",
      "Época: 89 \t Acertos: 0.333 \tPerda: 1.3877747404837983\n",
      "Época: 90 \t Acertos: 0.333 \tPerda: 1.3875611571296556\n",
      "Época: 91 \t Acertos: 0.333 \tPerda: 38.919422589862855\n",
      "Época: 92 \t Acertos: 0.333 \tPerda: 1.3865630380317655\n",
      "Época: 93 \t Acertos: 0.333 \tPerda: 1.3865242526271337\n",
      "Época: 94 \t Acertos: 0.333 \tPerda: 1.3864910655729654\n",
      "Época: 95 \t Acertos: 0.333 \tPerda: 1.3864626689535662\n",
      "Época: 96 \t Acertos: 0.333 \tPerda: 1.3864383714033572\n",
      "Época: 97 \t Acertos: 0.333 \tPerda: 1.3864175813047857\n",
      "Época: 98 \t Acertos: 0.333 \tPerda: 1.386399792405379\n",
      "Época: 99 \t Acertos: 0.333 \tPerda: 1.3863845715064744\n"
     ]
    }
   ],
   "source": [
    "model = MLP(X, y, 10, 2)\n",
    "model.fit(100, 0.001)"
   ]
  }
 ],
 "metadata": {
  "kernelspec": {
   "display_name": "Python 3",
   "language": "python",
   "name": "python3"
  },
  "language_info": {
   "codemirror_mode": {
    "name": "ipython",
    "version": 3
   },
   "file_extension": ".py",
   "mimetype": "text/x-python",
   "name": "python",
   "nbconvert_exporter": "python",
   "pygments_lexer": "ipython3",
   "version": "3.10.12"
  }
 },
 "nbformat": 4,
 "nbformat_minor": 2
}
