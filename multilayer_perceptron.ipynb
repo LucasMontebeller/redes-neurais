{
 "cells": [
  {
   "cell_type": "markdown",
   "metadata": {},
   "source": [
    "## Imports"
   ]
  },
  {
   "cell_type": "code",
   "execution_count": 429,
   "metadata": {},
   "outputs": [],
   "source": [
    "import numpy as np\n",
    "import pandas as pd\n",
    "import matplotlib.pyplot as plt\n",
    "from sklearn.datasets import load_iris, make_moons"
   ]
  },
  {
   "cell_type": "markdown",
   "metadata": {},
   "source": [
    "## Definindo DataSet"
   ]
  },
  {
   "cell_type": "code",
   "execution_count": 430,
   "metadata": {},
   "outputs": [],
   "source": [
    "X, y = make_moons(n_samples=500)# load_iris()\n",
    "# df = pd.DataFrame(data=data_set.data, columns=data_set.feature_names)\n",
    "# df.head()"
   ]
  },
  {
   "cell_type": "code",
   "execution_count": 431,
   "metadata": {},
   "outputs": [
    {
     "data": {
      "text/plain": [
       "((500, 2), (500,), (array([0, 1]), array([250, 250])))"
      ]
     },
     "execution_count": 431,
     "metadata": {},
     "output_type": "execute_result"
    }
   ],
   "source": [
    "# X, y = data_set['data'], data_set['target']\n",
    "X.shape, y.shape, np.unique(y, return_counts=True)"
   ]
  },
  {
   "cell_type": "code",
   "execution_count": 432,
   "metadata": {},
   "outputs": [
    {
     "data": {
      "text/plain": [
       "<matplotlib.collections.PathCollection at 0x7be28a792c50>"
      ]
     },
     "execution_count": 432,
     "metadata": {},
     "output_type": "execute_result"
    },
    {
     "data": {
      "image/png": "[encoded data removed]",
      "text/plain": [
       "<Figure size 640x480 with 1 Axes>"
      ]
     },
     "metadata": {},
     "output_type": "display_data"
    }
   ],
   "source": [
    "plt.scatter(X[:,0][y==0], X[:,1][y==0], color='blue')\n",
    "plt.scatter(X[:,0][y==1], X[:,1][y==1], color='red')"
   ]
  },
  {
   "cell_type": "markdown",
   "metadata": {},
   "source": [
    "# Multilayer perceptron"
   ]
  },
  {
   "cell_type": "code",
   "execution_count": 433,
   "metadata": {},
   "outputs": [],
   "source": [
    "class MLP():\n",
    "    def __init__(self, X:np.ndarray, y:np.ndarray, hidden_neurons:int, output_neurons:int) -> None:\n",
    "        self.X = X\n",
    "        self.y = y\n",
    "\n",
    "        self.input_neurons = X.shape[1]\n",
    "        self.hidden_neurons = hidden_neurons\n",
    "        self.output_neurons = output_neurons\n",
    "\n",
    "        # camada inicial para camada oculta\n",
    "        self.z1 = None\n",
    "        self.f1 = None\n",
    "        self.w1 = np.random.randn(self.input_neurons, self.hidden_neurons) / np.sqrt(self.input_neurons)\n",
    "        self.b1 = np.zeros((1, self.hidden_neurons)) # bias\n",
    "\n",
    "        # camada oculta para saida\n",
    "        self.f2 = None\n",
    "        self.w2 = np.random.randn(self.hidden_neurons, self.output_neurons) / np.sqrt(self.input_neurons)\n",
    "        self.b2 = np.zeros((1, self.output_neurons))\n",
    "\n",
    "    def predict(self):\n",
    "        pass\n",
    "\n",
    "    def fit(self, ephocs:int, learning_rate:float) -> None:\n",
    "        \"\"\"Realiza o treinamento da rede.\"\"\"\n",
    "        for e in range(ephocs):\n",
    "            output = self.__feedfoward(self.X)\n",
    "            loss = self.__loss_function(output)\n",
    "\n",
    "            # Condição de parada\n",
    "            accuracy = self.__calc_accuracy(output)\n",
    "            if accuracy == 1:\n",
    "                print(f'100% de acurácia após {e} épocas. Treinamento concluído.')\n",
    "                break\n",
    "            else:\n",
    "                print(f'Época: {e} \\t Acertos: {accuracy} \\t Perda: {loss}')\n",
    "\n",
    "            self.__backpropagation(output, learning_rate)\n",
    "\n",
    "    def __feedfoward(self, X:np.ndarray) -> np.ndarray:\n",
    "        \"\"\"Realiza a propagação direta pela rede neural.\"\"\"\n",
    "        self.z1 = (X @ self.w1) + self.b1 # broadcasting\n",
    "        self.f1 = self.__activation_function(self.z1, layer='hidden')\n",
    "        \n",
    "        z2 = (self.f1 @ self.w2) + self.b2\n",
    "        self.f2 = self.__activation_function(z2, layer='output')\n",
    "\n",
    "        return self.f2\n",
    "\n",
    "    def __activation_function(self,input:np.ndarray, layer:str) -> np.ndarray:\n",
    "        \"\"\"Aplica a função de ativação à saída da camada especificada.:\n",
    "            Valores possíveis:\n",
    "                - 'hidden': Camada oculta, usa a função tangente hiperbólica.\n",
    "                - 'output': Camada de saída, usa a função softmax.\n",
    "        \"\"\"\n",
    "        if layer == 'hidden':\n",
    "            return np.tanh(input)\n",
    "        elif layer == 'output':\n",
    "            exp_values = np.exp(input)\n",
    "            return exp_values / np.sum(exp_values, axis=1, keepdims=True)\n",
    "        else:\n",
    "            raise ValueError(\"O argumento 'layer' deve ser 'hidden' ou 'output'.\")\n",
    "    \n",
    "    def __loss_function(self, predictions: np.ndarray) -> float:\n",
    "        \"\"\"Calcula a perda da rede neural usando a Cross-Entropy Categórica.\"\"\"\n",
    "        # Probabilidades preditas para as classes verdadeiras\n",
    "        predicted_probabilities = predictions[np.arange(len(predictions)), self.y]\n",
    "        loss = -np.log(predicted_probabilities).mean()\n",
    "        return loss\n",
    "\n",
    "    def __backpropagation(self, predictions:np.ndarray, learning_rate:float) -> None:\n",
    "        \"\"\"Executa o algoritmo de backpropagation para atualizar os pesos.\"\"\"\n",
    "        # Calcula o gradiente da perda em relação à saída\n",
    "        grad_loss_output = np.copy(predictions)\n",
    "        true_labels = np.eye(grad_loss_output.shape[1])[y]  # one-hot encoding dos rótulos verdadeiros\n",
    "        grad_loss_output -= true_labels\n",
    "        \n",
    "        # Gradientes da camada de saída\n",
    "        grad_w2 = self.f1.T @ grad_loss_output\n",
    "        grad_b2 = np.sum(grad_loss_output, axis=0, keepdims=True)\n",
    "\n",
    "        # Calcula o gradiente da perda em relação à entrada da camada oculta\n",
    "        grad_loss_hidden = (grad_loss_output @ self.w2.T) * (1 - np.power(self.f1, 2))\n",
    "        \n",
    "        # Gradientes da camada oculta\n",
    "        grad_w1 = self.X.T @ grad_loss_hidden\n",
    "        grad_b1 = np.sum(grad_loss_hidden, axis=0, keepdims=True)\n",
    "\n",
    "        # Atualiza os pesos e bias das respectivas camadas\n",
    "        self.w2 += - learning_rate * grad_w2\n",
    "        self.b2 += - learning_rate * grad_b2\n",
    "        self.w1 += - learning_rate * grad_w1\n",
    "        self.b1 += - learning_rate * grad_b1\n",
    "\n",
    "    def __calc_accuracy(self, predictions:np.ndarray) -> float:\n",
    "        \"\"\"Calcula a porcentagem de acertos do modelo.\"\"\"\n",
    "        predicted_labels = np.argmax(predictions, axis=1)\n",
    "        true_labels = (predicted_labels == self.y).sum()\n",
    "        accuracy = true_labels / self.X.shape[0]\n",
    "        return np.round(accuracy, 3)"
   ]
  },
  {
   "cell_type": "markdown",
   "metadata": {},
   "source": [
    "## Testes"
   ]
  },
  {
   "cell_type": "code",
   "execution_count": 434,
   "metadata": {},
   "outputs": [
    {
     "name": "stdout",
     "output_type": "stream",
     "text": [
      "Época: 0 \t Acertos: 0.71 \t Perda: 1.4445962563829502\n",
      "Época: 1 \t Acertos: 0.5 \t Perda: 7.424915194492017\n",
      "Época: 2 \t Acertos: 0.802 \t Perda: 4.276557809702432\n",
      "Época: 3 \t Acertos: 0.854 \t Perda: 1.4757228413735093\n",
      "Época: 4 \t Acertos: 0.884 \t Perda: 0.8883091019651332\n",
      "Época: 5 \t Acertos: 0.894 \t Perda: 0.5867667555061519\n",
      "Época: 6 \t Acertos: 0.888 \t Perda: 0.44555976246170687\n",
      "Época: 7 \t Acertos: 0.89 \t Perda: 0.38826996304641875\n",
      "Época: 8 \t Acertos: 0.89 \t Perda: 0.3517715055570947\n",
      "Época: 9 \t Acertos: 0.9 \t Perda: 0.3186693496547426\n",
      "Época: 10 \t Acertos: 0.896 \t Perda: 0.28865915049633356\n",
      "Época: 11 \t Acertos: 0.916 \t Perda: 0.2632969994060418\n",
      "Época: 12 \t Acertos: 0.898 \t Perda: 0.24390661205769862\n",
      "Época: 13 \t Acertos: 0.93 \t Perda: 0.24044217566741186\n",
      "Época: 14 \t Acertos: 0.894 \t Perda: 0.24024011194027864\n",
      "Época: 15 \t Acertos: 0.926 \t Perda: 0.30060315873565\n",
      "Época: 16 \t Acertos: 0.898 \t Perda: 0.23274447557378083\n",
      "Época: 17 \t Acertos: 0.926 \t Perda: 0.3231185245858573\n",
      "Época: 18 \t Acertos: 0.908 \t Perda: 0.21435115137739472\n",
      "Época: 19 \t Acertos: 0.932 \t Perda: 0.30431494188561237\n",
      "Época: 20 \t Acertos: 0.92 \t Perda: 0.19333307636645017\n",
      "Época: 21 \t Acertos: 0.934 \t Perda: 0.2783769821896118\n",
      "Época: 22 \t Acertos: 0.93 \t Perda: 0.1684046079070152\n",
      "Época: 23 \t Acertos: 0.94 \t Perda: 0.237187237132127\n",
      "Época: 24 \t Acertos: 0.94 \t Perda: 0.1415970024208609\n",
      "Época: 25 \t Acertos: 0.946 \t Perda: 0.19227299300165537\n",
      "Época: 26 \t Acertos: 0.948 \t Perda: 0.11546554938604008\n",
      "Época: 27 \t Acertos: 0.952 \t Perda: 0.1467659713164537\n",
      "Época: 28 \t Acertos: 0.958 \t Perda: 0.09217259886168694\n",
      "Época: 29 \t Acertos: 0.962 \t Perda: 0.10733048146800116\n",
      "Época: 30 \t Acertos: 0.968 \t Perda: 0.07295348158436751\n",
      "Época: 31 \t Acertos: 0.97 \t Perda: 0.07711078262793046\n",
      "Época: 32 \t Acertos: 0.98 \t Perda: 0.058430442399874376\n",
      "Época: 33 \t Acertos: 0.978 \t Perda: 0.05741721168172768\n",
      "Época: 34 \t Acertos: 0.99 \t Perda: 0.04862818484670173\n",
      "Época: 35 \t Acertos: 0.984 \t Perda: 0.04651424046256021\n",
      "Época: 36 \t Acertos: 0.998 \t Perda: 0.042724206639002026\n",
      "Época: 37 \t Acertos: 0.988 \t Perda: 0.04106382030055616\n",
      "Época: 38 \t Acertos: 0.998 \t Perda: 0.039326193628067885\n",
      "Época: 39 \t Acertos: 0.992 \t Perda: 0.03820773134771512\n",
      "Época: 40 \t Acertos: 0.996 \t Perda: 0.037208246642062966\n",
      "Época: 41 \t Acertos: 0.994 \t Perda: 0.0363932238526245\n",
      "Época: 42 \t Acertos: 0.996 \t Perda: 0.035654723359381024\n",
      "Época: 43 \t Acertos: 0.996 \t Perda: 0.03498189239857386\n",
      "Época: 44 \t Acertos: 0.996 \t Perda: 0.03435000182911997\n",
      "Época: 45 \t Acertos: 0.996 \t Perda: 0.03375088282128465\n",
      "Época: 46 \t Acertos: 0.996 \t Perda: 0.03317795197091117\n",
      "Época: 47 \t Acertos: 0.996 \t Perda: 0.03262778790324232\n",
      "Época: 48 \t Acertos: 0.998 \t Perda: 0.032098042066225886\n",
      "Época: 49 \t Acertos: 0.998 \t Perda: 0.031587073444484096\n"
     ]
    }
   ],
   "source": [
    "model = MLP(X, y, 250, 2)\n",
    "model.fit(50, 0.001)"
   ]
  }
 ],
 "metadata": {
  "kernelspec": {
   "display_name": "Python 3",
   "language": "python",
   "name": "python3"
  },
  "language_info": {
   "codemirror_mode": {
    "name": "ipython",
    "version": 3
   },
   "file_extension": ".py",
   "mimetype": "text/x-python",
   "name": "python",
   "nbconvert_exporter": "python",
   "pygments_lexer": "ipython3",
   "version": "3.10.12"
  }
 },
 "nbformat": 4,
 "nbformat_minor": 2
}
