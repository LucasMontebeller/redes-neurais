{
 "cells": [
  {
   "cell_type": "markdown",
   "metadata": {},
   "source": [
    "### Dependências"
   ]
  },
  {
   "cell_type": "code",
   "execution_count": 24,
   "metadata": {},
   "outputs": [
    {
     "name": "stdout",
     "output_type": "stream",
     "text": [
      "Defaulting to user installation because normal site-packages is not writeable\n",
      "Requirement already satisfied: transformers in /home/lucas/.local/lib/python3.10/site-packages (4.41.2)\n",
      "Requirement already satisfied: torch in /home/lucas/.local/lib/python3.10/site-packages (2.3.1)\n",
      "Requirement already satisfied: safetensors>=0.4.1 in /home/lucas/.local/lib/python3.10/site-packages (from transformers) (0.4.3)\n",
      "Requirement already satisfied: numpy>=1.17 in /home/lucas/.local/lib/python3.10/site-packages (from transformers) (1.26.4)\n",
      "Requirement already satisfied: pyyaml>=5.1 in /usr/lib/python3/dist-packages (from transformers) (5.4.1)\n",
      "Requirement already satisfied: regex!=2019.12.17 in /home/lucas/.local/lib/python3.10/site-packages (from transformers) (2024.5.15)\n",
      "Requirement already satisfied: tokenizers<0.20,>=0.19 in /home/lucas/.local/lib/python3.10/site-packages (from transformers) (0.19.1)\n",
      "Requirement already satisfied: tqdm>=4.27 in /home/lucas/.local/lib/python3.10/site-packages (from transformers) (4.66.4)\n",
      "Requirement already satisfied: filelock in /home/lucas/.local/lib/python3.10/site-packages (from transformers) (3.14.0)\n",
      "Requirement already satisfied: packaging>=20.0 in /home/lucas/.local/lib/python3.10/site-packages (from transformers) (24.0)\n",
      "Requirement already satisfied: huggingface-hub<1.0,>=0.23.0 in /home/lucas/.local/lib/python3.10/site-packages (from transformers) (0.23.3)\n",
      "Requirement already satisfied: requests in /home/lucas/.local/lib/python3.10/site-packages (from transformers) (2.32.3)\n",
      "Requirement already satisfied: nvidia-cuda-nvrtc-cu12==12.1.105 in /home/lucas/.local/lib/python3.10/site-packages (from torch) (12.1.105)\n",
      "Requirement already satisfied: triton==2.3.1 in /home/lucas/.local/lib/python3.10/site-packages (from torch) (2.3.1)\n",
      "Requirement already satisfied: nvidia-curand-cu12==10.3.2.106 in /home/lucas/.local/lib/python3.10/site-packages (from torch) (10.3.2.106)\n",
      "Requirement already satisfied: nvidia-cusolver-cu12==11.4.5.107 in /home/lucas/.local/lib/python3.10/site-packages (from torch) (11.4.5.107)\n",
      "Requirement already satisfied: nvidia-cusparse-cu12==12.1.0.106 in /home/lucas/.local/lib/python3.10/site-packages (from torch) (12.1.0.106)\n",
      "Requirement already satisfied: jinja2 in /home/lucas/.local/lib/python3.10/site-packages (from torch) (3.1.4)\n",
      "Requirement already satisfied: sympy in /home/lucas/.local/lib/python3.10/site-packages (from torch) (1.12.1)\n",
      "Requirement already satisfied: fsspec in /home/lucas/.local/lib/python3.10/site-packages (from torch) (2024.6.0)\n",
      "Requirement already satisfied: networkx in /home/lucas/.local/lib/python3.10/site-packages (from torch) (3.3)\n",
      "Requirement already satisfied: nvidia-nccl-cu12==2.20.5 in /home/lucas/.local/lib/python3.10/site-packages (from torch) (2.20.5)\n",
      "Requirement already satisfied: nvidia-nvtx-cu12==12.1.105 in /home/lucas/.local/lib/python3.10/site-packages (from torch) (12.1.105)\n",
      "Requirement already satisfied: nvidia-cublas-cu12==12.1.3.1 in /home/lucas/.local/lib/python3.10/site-packages (from torch) (12.1.3.1)\n",
      "Requirement already satisfied: typing-extensions>=4.8.0 in /home/lucas/.local/lib/python3.10/site-packages (from torch) (4.11.0)\n",
      "Requirement already satisfied: nvidia-cuda-runtime-cu12==12.1.105 in /home/lucas/.local/lib/python3.10/site-packages (from torch) (12.1.105)\n",
      "Requirement already satisfied: nvidia-cudnn-cu12==8.9.2.26 in /home/lucas/.local/lib/python3.10/site-packages (from torch) (8.9.2.26)\n",
      "Requirement already satisfied: nvidia-cuda-cupti-cu12==12.1.105 in /home/lucas/.local/lib/python3.10/site-packages (from torch) (12.1.105)\n",
      "Requirement already satisfied: nvidia-cufft-cu12==11.0.2.54 in /home/lucas/.local/lib/python3.10/site-packages (from torch) (11.0.2.54)\n",
      "Requirement already satisfied: nvidia-nvjitlink-cu12 in /home/lucas/.local/lib/python3.10/site-packages (from nvidia-cusolver-cu12==11.4.5.107->torch) (12.5.40)\n",
      "Requirement already satisfied: MarkupSafe>=2.0 in /home/lucas/.local/lib/python3.10/site-packages (from jinja2->torch) (2.1.5)\n",
      "Requirement already satisfied: urllib3<3,>=1.21.1 in /usr/lib/python3/dist-packages (from requests->transformers) (1.26.5)\n",
      "Requirement already satisfied: certifi>=2017.4.17 in /usr/lib/python3/dist-packages (from requests->transformers) (2020.6.20)\n",
      "Requirement already satisfied: idna<4,>=2.5 in /usr/lib/python3/dist-packages (from requests->transformers) (3.3)\n",
      "Requirement already satisfied: charset-normalizer<4,>=2 in /home/lucas/.local/lib/python3.10/site-packages (from requests->transformers) (3.3.2)\n",
      "Requirement already satisfied: mpmath<1.4.0,>=1.1.0 in /home/lucas/.local/lib/python3.10/site-packages (from sympy->torch) (1.3.0)\n",
      "Note: you may need to restart the kernel to use updated packages.\n"
     ]
    }
   ],
   "source": [
    "pip install transformers torch"
   ]
  },
  {
   "cell_type": "markdown",
   "metadata": {},
   "source": [
    "### Imports"
   ]
  },
  {
   "cell_type": "code",
   "execution_count": 25,
   "metadata": {},
   "outputs": [],
   "source": [
    "import os\n",
    "import tarfile\n",
    "import pandas as pd\n",
    "from transformers import pipeline"
   ]
  },
  {
   "cell_type": "markdown",
   "metadata": {},
   "source": [
    "### Dataset"
   ]
  },
  {
   "cell_type": "code",
   "execution_count": 26,
   "metadata": {},
   "outputs": [],
   "source": [
    "url = \"https://ai.stanford.edu/~amaas/data/sentiment/aclImdb_v1.tar.gz\"\n",
    "dataset_dir = \"datasets\"\n",
    "os.makedirs(dataset_dir, exist_ok=True)\n",
    "\n",
    "file_name = os.path.join(dataset_dir, \"aclImdb_v1.tar.gz\")\n",
    "if not os.path.exists(file_name):\n",
    "    os.system(f\"wget {url} -O {file_name}\")"
   ]
  },
  {
   "cell_type": "code",
   "execution_count": 27,
   "metadata": {},
   "outputs": [],
   "source": [
    "def read_imdb_data_from_tarfile(tar_file, dataset_type):\n",
    "    data = {'review': [], 'sentiment': []}\n",
    "    with tarfile.open(tar_file, \"r:gz\") as tar:\n",
    "        for member in tar.getmembers():\n",
    "            if f'aclImdb/{dataset_type}/' in member.name and member.name.endswith('.txt'):\n",
    "                label = 'pos' if '/pos/' in member.name else 'neg'\n",
    "                f = tar.extractfile(member)\n",
    "                if f:\n",
    "                    review = f.read().decode('utf-8')\n",
    "                    review = '\\n'.join([line for line in review.split('\\n') if not line.startswith('http')])\n",
    "                    if review.strip():\n",
    "                        data['review'].append(review)\n",
    "                        data['sentiment'].append(label)\n",
    "    return pd.DataFrame(data)\n",
    "\n",
    "# train_data = read_imdb_data_from_tarfile(file_name, 'train')\n",
    "test_data = read_imdb_data_from_tarfile(file_name, 'test')"
   ]
  },
  {
   "cell_type": "code",
   "execution_count": 28,
   "metadata": {},
   "outputs": [
    {
     "data": {
      "text/html": [
       "<div>\n",
       "<style scoped>\n",
       "    .dataframe tbody tr th:only-of-type {\n",
       "        vertical-align: middle;\n",
       "    }\n",
       "\n",
       "    .dataframe tbody tr th {\n",
       "        vertical-align: top;\n",
       "    }\n",
       "\n",
       "    .dataframe thead th {\n",
       "        text-align: right;\n",
       "    }\n",
       "</style>\n",
       "<table border=\"1\" class=\"dataframe\">\n",
       "  <thead>\n",
       "    <tr style=\"text-align: right;\">\n",
       "      <th></th>\n",
       "      <th>review</th>\n",
       "      <th>sentiment</th>\n",
       "    </tr>\n",
       "  </thead>\n",
       "  <tbody>\n",
       "    <tr>\n",
       "      <th>0</th>\n",
       "      <td>I love sci-fi and am willing to put up with a ...</td>\n",
       "      <td>neg</td>\n",
       "    </tr>\n",
       "    <tr>\n",
       "      <th>1</th>\n",
       "      <td>Worth the entertainment value of a rental, esp...</td>\n",
       "      <td>neg</td>\n",
       "    </tr>\n",
       "    <tr>\n",
       "      <th>2</th>\n",
       "      <td>its a totally average film with a few semi-alr...</td>\n",
       "      <td>neg</td>\n",
       "    </tr>\n",
       "    <tr>\n",
       "      <th>3</th>\n",
       "      <td>STAR RATING: ***** Saturday Night **** Friday ...</td>\n",
       "      <td>neg</td>\n",
       "    </tr>\n",
       "    <tr>\n",
       "      <th>4</th>\n",
       "      <td>First off let me say, If you haven't enjoyed a...</td>\n",
       "      <td>neg</td>\n",
       "    </tr>\n",
       "    <tr>\n",
       "      <th>...</th>\n",
       "      <td>...</td>\n",
       "      <td>...</td>\n",
       "    </tr>\n",
       "    <tr>\n",
       "      <th>24994</th>\n",
       "      <td>Just got around to seeing Monster Man yesterda...</td>\n",
       "      <td>pos</td>\n",
       "    </tr>\n",
       "    <tr>\n",
       "      <th>24995</th>\n",
       "      <td>I got this as part of a competition prize. I w...</td>\n",
       "      <td>pos</td>\n",
       "    </tr>\n",
       "    <tr>\n",
       "      <th>24996</th>\n",
       "      <td>I got Monster Man in a box set of three films ...</td>\n",
       "      <td>pos</td>\n",
       "    </tr>\n",
       "    <tr>\n",
       "      <th>24997</th>\n",
       "      <td>Five minutes in, i started to feel how naff th...</td>\n",
       "      <td>pos</td>\n",
       "    </tr>\n",
       "    <tr>\n",
       "      <th>24998</th>\n",
       "      <td>I caught this movie on the Sci-Fi channel rece...</td>\n",
       "      <td>pos</td>\n",
       "    </tr>\n",
       "  </tbody>\n",
       "</table>\n",
       "<p>24999 rows × 2 columns</p>\n",
       "</div>"
      ],
      "text/plain": [
       "                                                  review sentiment\n",
       "0      I love sci-fi and am willing to put up with a ...       neg\n",
       "1      Worth the entertainment value of a rental, esp...       neg\n",
       "2      its a totally average film with a few semi-alr...       neg\n",
       "3      STAR RATING: ***** Saturday Night **** Friday ...       neg\n",
       "4      First off let me say, If you haven't enjoyed a...       neg\n",
       "...                                                  ...       ...\n",
       "24994  Just got around to seeing Monster Man yesterda...       pos\n",
       "24995  I got this as part of a competition prize. I w...       pos\n",
       "24996  I got Monster Man in a box set of three films ...       pos\n",
       "24997  Five minutes in, i started to feel how naff th...       pos\n",
       "24998  I caught this movie on the Sci-Fi channel rece...       pos\n",
       "\n",
       "[24999 rows x 2 columns]"
      ]
     },
     "execution_count": 28,
     "metadata": {},
     "output_type": "execute_result"
    }
   ],
   "source": [
    "test_data"
   ]
  },
  {
   "cell_type": "code",
   "execution_count": 29,
   "metadata": {},
   "outputs": [
    {
     "data": {
      "text/plain": [
       "sentiment\n",
       "neg    12500\n",
       "pos    12499\n",
       "Name: count, dtype: int64"
      ]
     },
     "execution_count": 29,
     "metadata": {},
     "output_type": "execute_result"
    }
   ],
   "source": [
    "test_data['sentiment'].value_counts()"
   ]
  },
  {
   "cell_type": "markdown",
   "metadata": {},
   "source": [
    "## Modelo"
   ]
  },
  {
   "cell_type": "code",
   "execution_count": 30,
   "metadata": {},
   "outputs": [],
   "source": [
    "test_size = 1000"
   ]
  },
  {
   "cell_type": "markdown",
   "metadata": {},
   "source": [
    "### Pipeline"
   ]
  },
  {
   "cell_type": "code",
   "execution_count": 31,
   "metadata": {},
   "outputs": [
    {
     "name": "stderr",
     "output_type": "stream",
     "text": [
      "No model was supplied, defaulted to distilbert/distilbert-base-uncased-finetuned-sst-2-english and revision af0f99b (https://huggingface.co/distilbert/distilbert-base-uncased-finetuned-sst-2-english).\n",
      "Using a pipeline without specifying a model name and revision in production is not recommended.\n",
      "/home/lucas/.local/lib/python3.10/site-packages/huggingface_hub/file_download.py:1132: FutureWarning: `resume_download` is deprecated and will be removed in version 1.0.0. Downloads always resume when possible. If you want to force a new download, use `force_download=True`.\n",
      "  warnings.warn(\n"
     ]
    }
   ],
   "source": [
    "classifier = pipeline(\"sentiment-analysis\", framework=\"pt\")"
   ]
  },
  {
   "cell_type": "code",
   "execution_count": 32,
   "metadata": {},
   "outputs": [],
   "source": [
    "def preprocess_and_chunk_reviews(reviews, max_seq_length=512):\n",
    "    processed_reviews = []\n",
    "    for review in reviews:\n",
    "        chunks = [review[i:i+max_seq_length] for i in range(0, len(review), max_seq_length)]\n",
    "        processed_reviews.extend(chunks)\n",
    "    \n",
    "    return processed_reviews\n",
    "\n",
    "def classify_reviews(reviews, classifier, max_seq_length=512):\n",
    "\n",
    "    processed_reviews = preprocess_and_chunk_reviews(reviews, max_seq_length)    \n",
    "    all_predictions = []\n",
    "\n",
    "    for review_chunk in processed_reviews:\n",
    "        predictions_chunk = classifier(review_chunk)        \n",
    "        all_predictions.extend(predictions_chunk)\n",
    "    \n",
    "    return all_predictions\n"
   ]
  },
  {
   "cell_type": "code",
   "execution_count": 33,
   "metadata": {},
   "outputs": [
    {
     "data": {
      "text/plain": [
       "[{'label': 'NEGATIVE', 'score': 0.9305744767189026},\n",
       " {'label': 'NEGATIVE', 'score': 0.9997639060020447},\n",
       " {'label': 'NEGATIVE', 'score': 0.999687671661377},\n",
       " {'label': 'POSITIVE', 'score': 0.9814736247062683},\n",
       " {'label': 'POSITIVE', 'score': 0.9839194416999817},\n",
       " {'label': 'NEGATIVE', 'score': 0.9982080459594727},\n",
       " {'label': 'NEGATIVE', 'score': 0.9994907379150391},\n",
       " {'label': 'NEGATIVE', 'score': 0.9996466636657715},\n",
       " {'label': 'NEGATIVE', 'score': 0.9836370348930359},\n",
       " {'label': 'POSITIVE', 'score': 0.9987999200820923},\n",
       " {'label': 'NEGATIVE', 'score': 0.9994495511054993},\n",
       " {'label': 'NEGATIVE', 'score': 0.9992795586585999},\n",
       " {'label': 'NEGATIVE', 'score': 0.9711073637008667},\n",
       " {'label': 'POSITIVE', 'score': 0.9882192611694336},\n",
       " {'label': 'POSITIVE', 'score': 0.9997252821922302},\n",
       " {'label': 'NEGATIVE', 'score': 0.9975519776344299},\n",
       " {'label': 'NEGATIVE', 'score': 0.9983616471290588},\n",
       " {'label': 'POSITIVE', 'score': 0.9998654127120972},\n",
       " {'label': 'NEGATIVE', 'score': 0.9992132186889648},\n",
       " {'label': 'NEGATIVE', 'score': 0.8534861207008362},\n",
       " {'label': 'POSITIVE', 'score': 0.547543466091156},\n",
       " {'label': 'NEGATIVE', 'score': 0.9996738433837891},\n",
       " {'label': 'NEGATIVE', 'score': 0.9992411136627197},\n",
       " {'label': 'NEGATIVE', 'score': 0.9995070695877075},\n",
       " {'label': 'NEGATIVE', 'score': 0.9997023940086365},\n",
       " {'label': 'NEGATIVE', 'score': 0.9997460246086121},\n",
       " {'label': 'NEGATIVE', 'score': 0.9997630715370178},\n",
       " {'label': 'NEGATIVE', 'score': 0.999774158000946},\n",
       " {'label': 'NEGATIVE', 'score': 0.9997933506965637},\n",
       " {'label': 'NEGATIVE', 'score': 0.9804162383079529},\n",
       " {'label': 'NEGATIVE', 'score': 0.9904881119728088},\n",
       " {'label': 'NEGATIVE', 'score': 0.9996901750564575},\n",
       " {'label': 'NEGATIVE', 'score': 0.9995737671852112},\n",
       " {'label': 'NEGATIVE', 'score': 0.9997641444206238},\n",
       " {'label': 'NEGATIVE', 'score': 0.998051643371582},\n",
       " {'label': 'NEGATIVE', 'score': 0.9996335506439209},\n",
       " {'label': 'NEGATIVE', 'score': 0.9807892441749573},\n",
       " {'label': 'NEGATIVE', 'score': 0.9997133612632751},\n",
       " {'label': 'NEGATIVE', 'score': 0.9997356534004211},\n",
       " {'label': 'NEGATIVE', 'score': 0.9997923970222473},\n",
       " {'label': 'NEGATIVE', 'score': 0.995510458946228},\n",
       " {'label': 'NEGATIVE', 'score': 0.9654315710067749},\n",
       " {'label': 'NEGATIVE', 'score': 0.9985840320587158},\n",
       " {'label': 'NEGATIVE', 'score': 0.9909323453903198},\n",
       " {'label': 'NEGATIVE', 'score': 0.5595054626464844},\n",
       " {'label': 'NEGATIVE', 'score': 0.9993793964385986},\n",
       " {'label': 'NEGATIVE', 'score': 0.9955904483795166},\n",
       " {'label': 'NEGATIVE', 'score': 0.9943711161613464},\n",
       " {'label': 'POSITIVE', 'score': 0.9976392984390259},\n",
       " {'label': 'POSITIVE', 'score': 0.7522409558296204},\n",
       " {'label': 'NEGATIVE', 'score': 0.9979735016822815},\n",
       " {'label': 'NEGATIVE', 'score': 0.9903623461723328},\n",
       " {'label': 'POSITIVE', 'score': 0.9526318907737732}]"
      ]
     },
     "execution_count": 33,
     "metadata": {},
     "output_type": "execute_result"
    }
   ],
   "source": [
    "predictions = classify_reviews(test_data['review'][:test_size].tolist(), classifier)\n",
    "predictions"
   ]
  },
  {
   "cell_type": "code",
   "execution_count": 34,
   "metadata": {},
   "outputs": [
    {
     "data": {
      "text/plain": [
       "['NEGATIVE',\n",
       " 'NEGATIVE',\n",
       " 'NEGATIVE',\n",
       " 'POSITIVE',\n",
       " 'POSITIVE',\n",
       " 'NEGATIVE',\n",
       " 'NEGATIVE',\n",
       " 'NEGATIVE',\n",
       " 'NEGATIVE',\n",
       " 'POSITIVE']"
      ]
     },
     "execution_count": 34,
     "metadata": {},
     "output_type": "execute_result"
    }
   ],
   "source": [
    "predicted_labels = [prediction['label'] for prediction in predictions]\n",
    "predicted_labels[:10]"
   ]
  },
  {
   "cell_type": "code",
   "execution_count": 35,
   "metadata": {},
   "outputs": [
    {
     "data": {
      "text/plain": [
       "['NEGATIVE',\n",
       " 'NEGATIVE',\n",
       " 'NEGATIVE',\n",
       " 'NEGATIVE',\n",
       " 'NEGATIVE',\n",
       " 'NEGATIVE',\n",
       " 'NEGATIVE',\n",
       " 'NEGATIVE',\n",
       " 'NEGATIVE',\n",
       " 'NEGATIVE']"
      ]
     },
     "execution_count": 35,
     "metadata": {},
     "output_type": "execute_result"
    }
   ],
   "source": [
    "label_map = {'neg': 'NEGATIVE', 'pos': 'POSITIVE'}\n",
    "test_data['sentiment'] = test_data['sentiment'][:test_size].map(label_map)\n",
    "true_labels = test_data['sentiment'][:test_size].tolist()\n",
    "true_labels[:10]"
   ]
  },
  {
   "cell_type": "code",
   "execution_count": 36,
   "metadata": {},
   "outputs": [
    {
     "data": {
      "text/plain": [
       "0.7"
      ]
     },
     "execution_count": 36,
     "metadata": {},
     "output_type": "execute_result"
    }
   ],
   "source": [
    "correct_predictions = 0\n",
    "total_predictions = test_size\n",
    "for pred, label in zip(predicted_labels, true_labels):\n",
    "    if pred == label:\n",
    "        correct_predictions += 1\n",
    "\n",
    "accuracy = correct_predictions / total_predictions\n",
    "accuracy"
   ]
  }
 ],
 "metadata": {
  "kernelspec": {
   "display_name": "Python 3",
   "language": "python",
   "name": "python3"
  },
  "language_info": {
   "codemirror_mode": {
    "name": "ipython",
    "version": 3
   },
   "file_extension": ".py",
   "mimetype": "text/x-python",
   "name": "python",
   "nbconvert_exporter": "python",
   "pygments_lexer": "ipython3",
   "version": "3.10.12"
  }
 },
 "nbformat": 4,
 "nbformat_minor": 2
}
